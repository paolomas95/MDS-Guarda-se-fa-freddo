{
 "cells": [
  {
   "cell_type": "markdown",
   "metadata": {
    "id": "fgBCgsKVDf_z"
   },
   "source": [
    "# CREAZIONE DEL GRAFO\n",
    "- Per poter risolvere la seconda parte del progetto abbiamo creato un grafo diretto che collegasse ogni città alle sue tre città più vicine (con longitudine inferiore)"
   ]
  },
  {
   "cell_type": "code",
   "execution_count": 1,
   "metadata": {
    "id": "hokvoVF7DgAC"
   },
   "outputs": [],
   "source": [
    "# Importo i pacchetti utili per poter creare il grafo\n",
    "import pandas as pd\n",
    "import geopandas\n",
    "import numpy as np\n",
    "from geopy import distance\n",
    "from geopy.distance import geodesic\n",
    "import networkx as nx\n",
    "from pyvis.network import Network\n",
    "import pickle"
   ]
  },
  {
   "cell_type": "code",
   "execution_count": 2,
   "metadata": {
    "id": "vhORPMzqDgAH",
    "outputId": "4c6346e5-f39c-4711-9fd9-c199f37b7a30"
   },
   "outputs": [
    {
     "data": {
      "text/html": [
       "<div>\n",
       "<style scoped>\n",
       "    .dataframe tbody tr th:only-of-type {\n",
       "        vertical-align: middle;\n",
       "    }\n",
       "\n",
       "    .dataframe tbody tr th {\n",
       "        vertical-align: top;\n",
       "    }\n",
       "\n",
       "    .dataframe thead th {\n",
       "        text-align: right;\n",
       "    }\n",
       "</style>\n",
       "<table border=\"1\" class=\"dataframe\">\n",
       "  <thead>\n",
       "    <tr style=\"text-align: right;\">\n",
       "      <th></th>\n",
       "      <th>Unnamed: 0</th>\n",
       "      <th>dt</th>\n",
       "      <th>AverageTemperature</th>\n",
       "      <th>City</th>\n",
       "      <th>Country</th>\n",
       "      <th>Latitude</th>\n",
       "      <th>Longitude</th>\n",
       "      <th>CLL</th>\n",
       "    </tr>\n",
       "  </thead>\n",
       "  <tbody>\n",
       "    <tr>\n",
       "      <th>0</th>\n",
       "      <td>0</td>\n",
       "      <td>1894-01-01</td>\n",
       "      <td>7.475</td>\n",
       "      <td>A Coruña</td>\n",
       "      <td>Spain</td>\n",
       "      <td>42.59</td>\n",
       "      <td>-8.73</td>\n",
       "      <td>A Coruña 42.59 -8.73</td>\n",
       "    </tr>\n",
       "    <tr>\n",
       "      <th>1</th>\n",
       "      <td>1</td>\n",
       "      <td>1894-01-01</td>\n",
       "      <td>-0.244</td>\n",
       "      <td>Aachen</td>\n",
       "      <td>Germany</td>\n",
       "      <td>50.63</td>\n",
       "      <td>6.34</td>\n",
       "      <td>Aachen 50.63 6.34</td>\n",
       "    </tr>\n",
       "    <tr>\n",
       "      <th>2</th>\n",
       "      <td>2</td>\n",
       "      <td>1894-01-01</td>\n",
       "      <td>0.250</td>\n",
       "      <td>Aalborg</td>\n",
       "      <td>Denmark</td>\n",
       "      <td>57.05</td>\n",
       "      <td>10.33</td>\n",
       "      <td>Aalborg 57.05 10.33</td>\n",
       "    </tr>\n",
       "    <tr>\n",
       "      <th>3</th>\n",
       "      <td>3</td>\n",
       "      <td>1894-01-01</td>\n",
       "      <td>25.866</td>\n",
       "      <td>Aba</td>\n",
       "      <td>Nigeria</td>\n",
       "      <td>5.63</td>\n",
       "      <td>8.07</td>\n",
       "      <td>Aba 5.63 8.07</td>\n",
       "    </tr>\n",
       "    <tr>\n",
       "      <th>4</th>\n",
       "      <td>4</td>\n",
       "      <td>1894-01-01</td>\n",
       "      <td>11.048</td>\n",
       "      <td>Abadan</td>\n",
       "      <td>Iran</td>\n",
       "      <td>29.74</td>\n",
       "      <td>48.00</td>\n",
       "      <td>Abadan 29.74 48.0</td>\n",
       "    </tr>\n",
       "    <tr>\n",
       "      <th>...</th>\n",
       "      <td>...</td>\n",
       "      <td>...</td>\n",
       "      <td>...</td>\n",
       "      <td>...</td>\n",
       "      <td>...</td>\n",
       "      <td>...</td>\n",
       "      <td>...</td>\n",
       "      <td>...</td>\n",
       "    </tr>\n",
       "    <tr>\n",
       "      <th>5349235</th>\n",
       "      <td>5349235</td>\n",
       "      <td>2020-12-01</td>\n",
       "      <td>5.009</td>\n",
       "      <td>Århus</td>\n",
       "      <td>Denmark</td>\n",
       "      <td>57.05</td>\n",
       "      <td>10.33</td>\n",
       "      <td>Århus 57.05 10.33</td>\n",
       "    </tr>\n",
       "    <tr>\n",
       "      <th>5349236</th>\n",
       "      <td>5349236</td>\n",
       "      <td>2020-12-01</td>\n",
       "      <td>9.843</td>\n",
       "      <td>Çorlu</td>\n",
       "      <td>Turkey</td>\n",
       "      <td>40.99</td>\n",
       "      <td>27.69</td>\n",
       "      <td>Çorlu 40.99 27.69</td>\n",
       "    </tr>\n",
       "    <tr>\n",
       "      <th>5349237</th>\n",
       "      <td>5349237</td>\n",
       "      <td>2020-12-01</td>\n",
       "      <td>4.694</td>\n",
       "      <td>Çorum</td>\n",
       "      <td>Turkey</td>\n",
       "      <td>40.99</td>\n",
       "      <td>34.08</td>\n",
       "      <td>Çorum 40.99 34.08</td>\n",
       "    </tr>\n",
       "    <tr>\n",
       "      <th>5349238</th>\n",
       "      <td>5349238</td>\n",
       "      <td>2020-12-01</td>\n",
       "      <td>-13.483</td>\n",
       "      <td>Öskemen</td>\n",
       "      <td>Kazakhstan</td>\n",
       "      <td>50.63</td>\n",
       "      <td>82.39</td>\n",
       "      <td>Öskemen 50.63 82.39</td>\n",
       "    </tr>\n",
       "    <tr>\n",
       "      <th>5349239</th>\n",
       "      <td>5349239</td>\n",
       "      <td>2020-12-01</td>\n",
       "      <td>-12.889</td>\n",
       "      <td>Ürümqi</td>\n",
       "      <td>China</td>\n",
       "      <td>44.20</td>\n",
       "      <td>87.20</td>\n",
       "      <td>Ürümqi 44.2 87.2</td>\n",
       "    </tr>\n",
       "  </tbody>\n",
       "</table>\n",
       "<p>5349240 rows × 8 columns</p>\n",
       "</div>"
      ],
      "text/plain": [
       "         Unnamed: 0          dt  AverageTemperature      City     Country  \\\n",
       "0                 0  1894-01-01               7.475  A Coruña       Spain   \n",
       "1                 1  1894-01-01              -0.244    Aachen     Germany   \n",
       "2                 2  1894-01-01               0.250   Aalborg     Denmark   \n",
       "3                 3  1894-01-01              25.866       Aba     Nigeria   \n",
       "4                 4  1894-01-01              11.048    Abadan        Iran   \n",
       "...             ...         ...                 ...       ...         ...   \n",
       "5349235     5349235  2020-12-01               5.009     Århus     Denmark   \n",
       "5349236     5349236  2020-12-01               9.843     Çorlu      Turkey   \n",
       "5349237     5349237  2020-12-01               4.694     Çorum      Turkey   \n",
       "5349238     5349238  2020-12-01             -13.483   Öskemen  Kazakhstan   \n",
       "5349239     5349239  2020-12-01             -12.889    Ürümqi       China   \n",
       "\n",
       "         Latitude  Longitude                   CLL  \n",
       "0           42.59      -8.73  A Coruña 42.59 -8.73  \n",
       "1           50.63       6.34     Aachen 50.63 6.34  \n",
       "2           57.05      10.33   Aalborg 57.05 10.33  \n",
       "3            5.63       8.07         Aba 5.63 8.07  \n",
       "4           29.74      48.00     Abadan 29.74 48.0  \n",
       "...           ...        ...                   ...  \n",
       "5349235     57.05      10.33     Århus 57.05 10.33  \n",
       "5349236     40.99      27.69     Çorlu 40.99 27.69  \n",
       "5349237     40.99      34.08     Çorum 40.99 34.08  \n",
       "5349238     50.63      82.39   Öskemen 50.63 82.39  \n",
       "5349239     44.20      87.20      Ürümqi 44.2 87.2  \n",
       "\n",
       "[5349240 rows x 8 columns]"
      ]
     },
     "execution_count": 2,
     "metadata": {},
     "output_type": "execute_result"
    }
   ],
   "source": [
    "# importo il dataset pulito ed aggiornato\n",
    "df= pd.read_csv('Data/dataset_cities_finale_2020.csv')\n",
    "df"
   ]
  },
  {
   "cell_type": "code",
   "execution_count": 3,
   "metadata": {
    "id": "ceZiZR97DgAJ"
   },
   "outputs": [],
   "source": [
    "# creazione di un dataframe di tutte le 3510 città\n",
    "df_cities= df[:3510][['CLL', 'Latitude','Longitude']]"
   ]
  },
  {
   "cell_type": "code",
   "execution_count": 4,
   "metadata": {
    "id": "PVBSbpvYDgAK"
   },
   "outputs": [],
   "source": [
    "# creazione lista del codice univoco delle città\n",
    "cll=[]\n",
    "for i in range(df_cities.shape[0]):\n",
    "    cll.append(df.loc[i]['CLL'])"
   ]
  },
  {
   "cell_type": "code",
   "execution_count": 5,
   "metadata": {
    "id": "elIel8lhDgAL"
   },
   "outputs": [],
   "source": [
    "# creazione di un dizionario con codice univoco di ogni città come chiave e le coordinate come valori\n",
    "\n",
    "coord_dict={}\n",
    "\n",
    "for city in cll:\n",
    "    \n",
    "    coord_dict[city]=(float(city.split()[-2]),float(city.split()[-1]))\n"
   ]
  },
  {
   "cell_type": "code",
   "execution_count": 6,
   "metadata": {
    "id": "eQlU-JMxDgAM"
   },
   "outputs": [],
   "source": [
    "# funzione per calcolare la distanza geodesica tra due città\n",
    "geodist= lambda x, y: geodesic(coord_dict[x],coord_dict[y]).km"
   ]
  },
  {
   "cell_type": "code",
   "execution_count": 7,
   "metadata": {
    "id": "0XXBbXjdDgAN"
   },
   "outputs": [],
   "source": [
    "# funzione per trovare in dataframe delle città che si trovano a sinistra della città selezionata\n",
    "def df_cll_sx(a):\n",
    "    iniz=coord_dict[a]\n",
    "    s= df_cities[(df_cities['Longitude']<iniz[1])] \n",
    "    return(s)"
   ]
  },
  {
   "cell_type": "code",
   "execution_count": 8,
   "metadata": {
    "id": "ITZNTnK2DgAP"
   },
   "outputs": [],
   "source": [
    "# funzione per ricavare una lista delle 3 città più vicine della città selezionata\n",
    "def nearest_city(a):\n",
    "    try:\n",
    "    \n",
    "        distanze= []\n",
    "        df_city=df_cll_sx(a)\n",
    "\n",
    "        for c in df_city['CLL']:\n",
    "            d = geodist(c,a)\n",
    "            distanze.append(d)\n",
    "\n",
    "        df_city['distances']=distanze\n",
    "\n",
    "        df_city=df_city.sort_values(by=['distances'], ascending=True).reset_index()\n",
    "\n",
    "        n_list=[]\n",
    "\n",
    "        for j in range(3):\n",
    "\n",
    "            n_list.append([df_city.loc[j]['Latitude'],df_city.loc[j]['Longitude'],df_city.loc[j]['CLL'],df_city.loc[j]['distances']])\n",
    "\n",
    "    except KeyError:\n",
    "        \n",
    "        n_list=[]\n",
    "            \n",
    "    return(n_list)"
   ]
  },
  {
   "cell_type": "code",
   "execution_count": 9,
   "metadata": {
    "id": "PYWzhnU6DgAS",
    "outputId": "42ab4c1f-305f-489f-8c61-588cfa149c55"
   },
   "outputs": [
    {
     "name": "stderr",
     "output_type": "stream",
     "text": [
      "C:\\Users\\lucam\\AppData\\Local\\Temp/ipykernel_12956/2855832825.py:12: SettingWithCopyWarning: \n",
      "A value is trying to be set on a copy of a slice from a DataFrame.\n",
      "Try using .loc[row_indexer,col_indexer] = value instead\n",
      "\n",
      "See the caveats in the documentation: https://pandas.pydata.org/pandas-docs/stable/user_guide/indexing.html#returning-a-view-versus-a-copy\n",
      "  df_city['distances']=distanze\n"
     ]
    }
   ],
   "source": [
    "# creazione di un grafo diretto vuoto \n",
    "G= nx.DiGraph()\n",
    "\n",
    "# aggiunta delle città come nodi del grafo\n",
    "for city in cll: \n",
    "    G.add_node(city)\n",
    "    \n",
    "# costruzione degli archi del grafo\n",
    "for city in cll:\n",
    "    \n",
    "    l =nearest_city(city)\n",
    "    \n",
    "    if l==[]:\n",
    "        continue\n",
    "    else:\n",
    "        G.add_edge(city,l[0][2])\n",
    "        G.add_edge(city,l[1][2])\n",
    "        G.add_edge(city,l[2][2])"
   ]
  },
  {
   "cell_type": "code",
   "execution_count": 13,
   "metadata": {},
   "outputs": [
    {
     "data": {
      "text/plain": [
       "OutEdgeDataView([('A Coruña 42.59 -8.73', 'Agadir 29.74 -9.23'), ('A Coruña 42.59 -8.73', 'Las Palmas 28.13 -15.45'), ('A Coruña 42.59 -8.73', 'Santa Cruz De Tenerife 28.13 -15.45')])"
      ]
     },
     "execution_count": 13,
     "metadata": {},
     "output_type": "execute_result"
    }
   ],
   "source": [
    "# visualizzazione degli archi del grafo di una città esempio\n",
    "G.edges('A Coruña 42.59 -8.73')"
   ]
  },
  {
   "cell_type": "code",
   "execution_count": null,
   "metadata": {
    "id": "s-Z9SIHLDgAV"
   },
   "outputs": [],
   "source": [
    "# salvataggio del grafo\n",
    "nx.readwrite.gpickle.write_gpickle(G,'Data/grafo1')"
   ]
  },
  {
   "cell_type": "code",
   "execution_count": null,
   "metadata": {
    "id": "qvOxNPKLDgAW"
   },
   "outputs": [],
   "source": [
    "#visualizzazione del grafo diretto\n",
    "net= Network(notebook=True)\n",
    "net.from_nx(G)\n",
    "net.show('g1.html')"
   ]
  }
 ],
 "metadata": {
  "colab": {
   "name": "building_graph.ipynb",
   "provenance": []
  },
  "kernelspec": {
   "display_name": "Python 3 (ipykernel)",
   "language": "python",
   "name": "python3"
  },
  "language_info": {
   "codemirror_mode": {
    "name": "ipython",
    "version": 3
   },
   "file_extension": ".py",
   "mimetype": "text/x-python",
   "name": "python",
   "nbconvert_exporter": "python",
   "pygments_lexer": "ipython3",
   "version": "3.9.7"
  },
  "toc": {
   "base_numbering": 1,
   "nav_menu": {},
   "number_sections": true,
   "sideBar": true,
   "skip_h1_title": false,
   "title_cell": "Table of Contents",
   "title_sidebar": "Contents",
   "toc_cell": false,
   "toc_position": {},
   "toc_section_display": true,
   "toc_window_display": false
  }
 },
 "nbformat": 4,
 "nbformat_minor": 1
}
