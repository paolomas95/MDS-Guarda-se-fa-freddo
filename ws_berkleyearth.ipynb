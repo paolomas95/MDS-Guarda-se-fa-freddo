{
 "cells": [
  {
   "cell_type": "markdown",
   "id": "cc7cae75",
   "metadata": {},
   "source": [
    "# Web scraping per l'aggiornamento dei dati\n",
    "- Utilizzando la libreria Selenium itereremo il browser per scaricare le pagine html del sito berkleyearth per poter aggiornare i dati delle misurazioni delle temperature fino al 2020."
   ]
  },
  {
   "cell_type": "code",
   "execution_count": null,
   "id": "61cc93e2",
   "metadata": {},
   "outputs": [],
   "source": [
    "# importo le librerie necessarie\n",
    "\n",
    "from selenium import webdriver\n",
    "import codecs\n",
    "import os\n",
    "import pickle"
   ]
  },
  {
   "cell_type": "code",
   "execution_count": null,
   "id": "fec6cba5",
   "metadata": {},
   "outputs": [],
   "source": [
    "# definizione funzione per effettuare web-scraping per i dati delle nazioni\n",
    "\n",
    "def get_txt_nation(nation):\n",
    "    \n",
    "    # apre web driver\n",
    "    # inserire il proprio percorso di chromedriver\n",
    "    \n",
    "    driver=webdriver.Chrome(r'path\\to\\chrome_driver\\chromedriver')\n",
    "    driver.implicitly_wait(0.5)\n",
    "    driver.maximize_window()\n",
    "    \n",
    "    # lancia url e scarica html\n",
    "    \n",
    "    driver.get('http://berkeleyearth.lbl.gov/auto/Regional/TAVG/Text/{}-TAVG-Trend.txt'.format(nation))\n",
    "\n",
    "    n=os.path.join('Data/GlobalTemp_dataset','{}.html'.format(nation))\n",
    "\n",
    "    f=codecs.open(n,'w','utf-8')\n",
    "\n",
    "    h=driver.page_source\n",
    "\n",
    "    f.write(h)\n",
    "\n",
    "    driver.quit()"
   ]
  },
  {
   "cell_type": "code",
   "execution_count": null,
   "id": "ecce4260",
   "metadata": {},
   "outputs": [],
   "source": [
    "# definizione funzione per effettuare web-scraping per i dati delle città\n",
    "\n",
    "\n",
    "def get_txt_cities(coordinate_city_list):\n",
    "    \n",
    "    \n",
    "    #apre web driver\n",
    "    # inserire il proprio percorso di chromedriver\n",
    "    \n",
    "    driver=webdriver.Chrome(r'path\\to\\chrome_driver\\chromedriver')\n",
    "    driver.implicitly_wait(0.5)\n",
    "    driver.maximize_window()\n",
    "    \n",
    "    #lancia url e scarica html\n",
    "    \n",
    "    driver.get('http://berkeleyearth.lbl.gov/auto/Local/TAVG/Text/{}-{}-TAVG-Trend.txt'.format(coordinate_city_list[0],coordinate_city_list[1]))\n",
    "\n",
    "    n=os.path.join('Data/GlobalTemp_dataset','{}.html'.format(coordinate_city_list[2]))\n",
    "\n",
    "    f=codecs.open(n,'w','utf-8')\n",
    "\n",
    "    h=driver.page_source\n",
    "\n",
    "    f.write(h)\n",
    "\n",
    "    driver.quit()"
   ]
  },
  {
   "cell_type": "code",
   "execution_count": null,
   "id": "13e486c3",
   "metadata": {},
   "outputs": [],
   "source": [
    "# caricamento lista delle nazioni \n",
    "\n",
    "infile = open(\"Data/country_list_ws.pickle\",'rb')\n",
    "country_list = pickle.load(infile)\n",
    "infile.close()"
   ]
  },
  {
   "cell_type": "code",
   "execution_count": null,
   "id": "d3122379",
   "metadata": {},
   "outputs": [],
   "source": [
    "#country_list"
   ]
  },
  {
   "cell_type": "code",
   "execution_count": null,
   "id": "8f239271",
   "metadata": {},
   "outputs": [],
   "source": [
    "#scarico i file html delle nazioni\n",
    "\n",
    "for country in country_list:\n",
    "    \n",
    "    if country == 'denmark-(europe)':\n",
    "        \n",
    "        get_txt('denmark-%28europe%29')\n",
    "        \n",
    "    elif country ==\"côte-d'ivoire\":\n",
    "    \n",
    "        get_txt('c%F4te-d%27ivoire')\n",
    "        \n",
    "    else:\n",
    "        \n",
    "        get_txt(country)\n"
   ]
  },
  {
   "cell_type": "code",
   "execution_count": null,
   "id": "0dfe1b2e",
   "metadata": {},
   "outputs": [],
   "source": [
    "# carico lista coord-città\n",
    "\n",
    "infile = open(\"Data/coordinate_city_list.pickle\",'rb')\n",
    "coordinate_city_list = pickle.load(infile)\n",
    "infile.close()"
   ]
  },
  {
   "cell_type": "code",
   "execution_count": null,
   "id": "4932678e",
   "metadata": {},
   "outputs": [],
   "source": [
    "coordinate_city_list"
   ]
  },
  {
   "cell_type": "code",
   "execution_count": null,
   "id": "bbb67f39",
   "metadata": {},
   "outputs": [],
   "source": [
    "# scarico i file html per le città\n",
    "\n",
    "for coordinate in coordinate_city_list:\n",
    "    \n",
    "    get_txt_cities(coordinate)"
   ]
  },
  {
   "cell_type": "markdown",
   "id": "9f7449e5",
   "metadata": {},
   "source": [
    "## NOTA: Si è successivamente notato che molte città possedevano doppioni ed occorreva salvare i loro nomi utilizzando un identificatore univoco, in quanto altrimenti i file venivano sovrascritti "
   ]
  },
  {
   "cell_type": "code",
   "execution_count": null,
   "id": "0cac2507",
   "metadata": {},
   "outputs": [],
   "source": [
    "def get_txt_cities_2(coordinate_city_list):\n",
    "    \n",
    "    # apre web driver\n",
    "    # inserire il proprio percorso di chromedriver\n",
    "    \n",
    "    driver=webdriver.Chrome(r'path\\to\\chrome_driver\\chromedriver')\n",
    "    driver.implicitly_wait(0.5)\n",
    "    driver.maximize_window()\n",
    "    \n",
    "    # lancia url e scarica html\n",
    "    \n",
    "    driver.get('http://berkeleyearth.lbl.gov/auto/Local/TAVG/Text/{}-{}-TAVG-Trend.txt'.format(coordinate_city_list[0],coordinate_city_list[1]))\n",
    "\n",
    "    n=os.path.join('Data/global_Temp_data_correction','{}{}{}.html'.format(coordinate_city_list[2],coordinate_city_list[0],coordinate_city_list[1]))\n",
    "\n",
    "    f=codecs.open(n,'w','utf-8')\n",
    "\n",
    "    h=driver.page_source\n",
    "\n",
    "    f.write(h)\n",
    "\n",
    "    driver.quit()"
   ]
  },
  {
   "cell_type": "code",
   "execution_count": null,
   "id": "27931a9d",
   "metadata": {},
   "outputs": [],
   "source": [
    "# carico lista delle città con doppioni\n",
    "\n",
    "infile = open(\"Data/problem_coord_city_list.pickle\",'rb')\n",
    "problem_coord_city_list = pickle.load(infile)\n",
    "infile.close()"
   ]
  },
  {
   "cell_type": "code",
   "execution_count": null,
   "id": "f43e48c5",
   "metadata": {},
   "outputs": [],
   "source": [
    "problem_coord_city_list"
   ]
  },
  {
   "cell_type": "code",
   "execution_count": null,
   "id": "c0d5f4dc",
   "metadata": {},
   "outputs": [],
   "source": [
    "for city in problem_coord_city_list:\n",
    "    \n",
    "    get_txt_cities_2(city)"
   ]
  }
 ],
 "metadata": {
  "kernelspec": {
   "display_name": "Python 3 (ipykernel)",
   "language": "python",
   "name": "python3"
  },
  "language_info": {
   "codemirror_mode": {
    "name": "ipython",
    "version": 3
   },
   "file_extension": ".py",
   "mimetype": "text/x-python",
   "name": "python",
   "nbconvert_exporter": "python",
   "pygments_lexer": "ipython3",
   "version": "3.9.7"
  },
  "toc": {
   "base_numbering": 1,
   "nav_menu": {},
   "number_sections": true,
   "sideBar": true,
   "skip_h1_title": false,
   "title_cell": "Table of Contents",
   "title_sidebar": "Contents",
   "toc_cell": false,
   "toc_position": {},
   "toc_section_display": true,
   "toc_window_display": false
  }
 },
 "nbformat": 4,
 "nbformat_minor": 5
}
